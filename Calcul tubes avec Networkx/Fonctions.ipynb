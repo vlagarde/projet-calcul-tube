{
 "cells": [
  {
   "cell_type": "code",
   "execution_count": 3,
   "metadata": {},
   "outputs": [
    {
     "data": {
      "image/png": "[encoded data removed]",
      "text/plain": [
       "<Figure size 432x288 with 1 Axes>"
      ]
     },
     "metadata": {},
     "output_type": "display_data"
    }
   ],
   "source": [
    "import networkx as nx\n",
    "import matplotlib.pyplot as plt\n",
    "G = nx.Graph()\n",
    "liste_de_postes = []\n",
    "\n",
    "\n",
    "def ajout_poste(Rep, Nom, P, L):\n",
    "    \n",
    "    G.add_node(Rep,Nom = Nom, Puissance = P, Longueur = L)\n",
    "    G.node[Rep][\"Cumul\"] = G.node[Rep][\"Longueur\"]\n",
    "    liste_de_postes.append(Rep)\n",
    "\n",
    "#Ajout tés\n",
    "def ajout_té(Rep, aval1, aval2, L):\n",
    "    \n",
    "    G.add_node(Rep, Longueur = L)\n",
    "    G.node[Rep][\"Puissance\"] = G.node[aval1][\"Puissance\"] + G.node[aval2][\"Puissance\"]\n",
    "    G.add_edge(aval1,Rep)\n",
    "    G.add_edge(aval2,Rep)\n",
    "    G[aval1][Rep][\"Longueur\"] = G.nodes[aval1][\"Longueur\"]\n",
    "    G[aval2][Rep][\"Longueur\"] = G.nodes[aval2][\"Longueur\"]\n",
    "    liste_de_postes.append(Rep)\n",
    "    \n",
    "#Ajout Poste de production, boucle le réseau\n",
    "    \n",
    "def ajout_prod(Nom, té):\n",
    "    G.add_node(\"Prod\",Longueur=0)\n",
    "    G.add_edge(\"Prod\",té)\n",
    "    G.node[\"Prod\"][\"Puissance\"] = G.node[té][\"Puissance\"]\n",
    "    \n",
    "\n",
    "#établir liste des routes pout tous les postes\n",
    "\n",
    "def creation_routes(liste_de_postes):\n",
    "    liste_de_routes=[]\n",
    "    for poste in liste_de_postes:\n",
    "        for path in nx.all_simple_paths(G, source=\"Prod\", target=poste):\n",
    "            liste_de_routes.append(path)\n",
    "            \n",
    "\n",
    "\n",
    "#Calcul des cumuls:\n",
    "\n",
    "def calcul_cumul(liste_de_routes):\n",
    "    for route in liste_de_routes:\n",
    "        cumul = 0\n",
    "        for poste in route:\n",
    "            cumul += G.node[poste][\"Longueur\"]\n",
    "        G.node[route[-1]][\"Cumul\"] = cumul \n",
    "            \n",
    "    \n",
    "\n",
    "\n",
    "        \n",
    "#print(G.nodes.data())\n",
    "\n",
    "\n",
    "#Dessin\n",
    "\n",
    "pos = nx.spring_layout(G)\n",
    "nx.draw(G, pos, font_size=16, with_labels=True)\n",
    "\n",
    "#coordonées des postes, on vera plus tard commend le gérer\n",
    "#pos = {\n",
    "#    1:(4,3),\n",
    "#    2:(4,1),\n",
    "#    3:(3,3),\n",
    "#    4:(2,3),\n",
    "#    \"t1\":(4,2),\n",
    "#    \"t2\":(3,2),\n",
    "#    \"t3\":(2,2),\n",
    "#    \"Prod\":(1,2)\n",
    "#}\n",
    "\n",
    "\n",
    "#nx.draw_shell(G)\n",
    "#nx.draw_kamada_kawai(G)\n",
    "#nx.draw_networkx(G,pos, arrows=True, with_labels=True)\n",
    "\n",
    "\n",
    "\n"
   ]
  },
  {
   "cell_type": "code",
   "execution_count": null,
   "metadata": {},
   "outputs": [],
   "source": []
  }
 ],
 "metadata": {
  "kernelspec": {
   "display_name": "Python 3",
   "language": "python",
   "name": "python3"
  },
  "language_info": {
   "codemirror_mode": {
    "name": "ipython",
    "version": 3
   },
   "file_extension": ".py",
   "mimetype": "text/x-python",
   "name": "python",
   "nbconvert_exporter": "python",
   "pygments_lexer": "ipython3",
   "version": "3.6.7"
  }
 },
 "nbformat": 4,
 "nbformat_minor": 2
}
