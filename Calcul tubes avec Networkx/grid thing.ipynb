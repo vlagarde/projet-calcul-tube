{
 "cells": [
  {
   "cell_type": "code",
   "execution_count": 3,
   "metadata": {},
   "outputs": [],
   "source": [
    "from tkinter import *\n",
    "\n",
    "class BattleScreen(Frame):\n",
    "    def __init__(self, root):\n",
    "        Frame.__init__(self, root)\n",
    "        self.grid()\n",
    "\n",
    "        for row in range(20):\n",
    "           for col in range(20):\n",
    "                butt1 = Button(self, bg='blue', width=1)\n",
    "                butt1.grid(row=row, column=col)\n",
    "\n",
    "        #self.but_frame = Frame(self)\n",
    "        #self.but_frame.pack(fill=X)\n",
    "        button1 = Button(self, text='Quit', width=6, command=lambda root=root:root.destroy())\n",
    "        button1.grid(row=20, columnspan=20)\n",
    "\n",
    "\n",
    "root = Tk()\n",
    "sheet = BattleScreen(root)\n",
    "root.mainloop()"
   ]
  },
  {
   "cell_type": "code",
   "execution_count": null,
   "metadata": {},
   "outputs": [],
   "source": []
  },
  {
   "cell_type": "code",
   "execution_count": null,
   "metadata": {},
   "outputs": [],
   "source": []
  }
 ],
 "metadata": {
  "kernelspec": {
   "display_name": "Python 3",
   "language": "python",
   "name": "python3"
  },
  "language_info": {
   "codemirror_mode": {
    "name": "ipython",
    "version": 3
   },
   "file_extension": ".py",
   "mimetype": "text/x-python",
   "name": "python",
   "nbconvert_exporter": "python",
   "pygments_lexer": "ipython3",
   "version": "3.6.7"
  }
 },
 "nbformat": 4,
 "nbformat_minor": 2
}
