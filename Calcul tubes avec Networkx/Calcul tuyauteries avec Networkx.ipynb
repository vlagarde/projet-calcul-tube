{
 "cells": [
  {
   "cell_type": "code",
   "execution_count": null,
   "metadata": {},
   "outputs": [],
   "source": [
    "#créer une fonctions pour créer les postes qui prenent comme argument la puissance \"P\" poste,\n",
    "# la longueur \"l\" du tronçon précédent le poste, et nom du poste\n",
    "# Créer une variable \"Cumul\" dans chaque poste, de base égale à \"L\" (sera éditée plus tard )\n",
    "\n",
    "#Créer une fonction pour créer un té, prenant comme argument les postes/té en aval du té en question \n",
    "# peut être 2 postes, 2 té, le plus souvent un té un poste\n",
    "# dans cette foction calculer la puissance \"P\" comme étant = à la puissance des nodes aval*\n",
    "# également définir cumul = \"L\" du té\n",
    "# penser à venir éditer la longueur \"L\" des deux nodes aval comme étant égale au cumul du té + \"L\" du poste en question \n",
    "#vérifier si solution viable, le cumul devra évoluer au fur et à mesure de l'ajout de tés et postes.\n",
    "#probablement faire une for loop qui itère sur toutes les nodes crées pour mettre à jour cumul !\n",
    "#append une liste/dictionnaire des nodes crées et nodes qui y sont liées en amont\n",
    "\n",
    "#l'arboressence devra être créée du poste le plus loin jusqu'à la production.\n",
    "#les postes pourront être rentrés sans liens au début, possiblement via tableau excel, les té seront alors ajoutés après.\n",
    "\n",
    "#créer aussi fonction ajout node \"production\", avec argument le nom et un node té\n",
    "#permet juste de boucler le réseau en y reliant le dernier Té\n",
    "\n",
    "\n",
    "#créer un interface Tkinter avec boutons \"ajout poste\", \"ajout té\", \"ajout production\"\n",
    "#à chaque ajout faire apparaitre le graphe à jour"
   ]
  },
  {
   "cell_type": "code",
   "execution_count": 24,
   "metadata": {
    "scrolled": true
   },
   "outputs": [
    {
     "name": "stdout",
     "output_type": "stream",
     "text": [
      "[(1, {'Nom': 'CF1', 'Puissance': 1000, 'Longueur': 1, 'Cumul': 4}), (2, {'Nom': 'CF2', 'Puissance': 1000, 'Longueur': 1, 'Cumul': 4}), ('t1', {'Longueur': 1, 'Puissance': 2000, 'Cumul': 3}), (3, {'Nom': 'CF3', 'Puissance': 1000, 'Longueur': 1, 'Cumul': 3}), ('t2', {'Longueur': 1, 'Puissance': 3000, 'Cumul': 2}), (4, {'Nom': 'CF4', 'Puissance': 1000, 'Longueur': 1, 'Cumul': 2}), ('t3', {'Longueur': 1, 'Puissance': 4000, 'Cumul': 1}), ('Prod', {'Longueur': 0, 'Puissance': 4000})]\n"
     ]
    },
    {
     "data": {
      "image/png": "[encoded data removed]",
      "text/plain": [
       "<Figure size 432x288 with 1 Axes>"
      ]
     },
     "metadata": {},
     "output_type": "display_data"
    }
   ],
   "source": [
    "import networkx as nx\n",
    "import matplotlib.pyplot as plt\n",
    "G = nx.Graph()\n",
    "liste_de_postes = []\n",
    "\n",
    "\n",
    "def ajout_poste(Rep, Nom, P, L):\n",
    "    \n",
    "    G.add_node(Rep,Nom = Nom, Puissance = P, Longueur = L)\n",
    "    G.node[Rep][\"Cumul\"] = G.node[Rep][\"Longueur\"]\n",
    "    liste_de_postes.append(Rep)\n",
    "\n",
    "#Exemple commande user:\n",
    "ajout_poste(1,\"CF1\", 1000, 1)    \n",
    "ajout_poste(2,\"CF2\", 1000, 1)\n",
    "\n",
    "def ajout_té(Rep, aval1, aval2, L):\n",
    "    \n",
    "    G.add_node(Rep, Longueur = L)\n",
    "    G.node[Rep][\"Puissance\"] = G.node[aval1][\"Puissance\"] + G.node[aval2][\"Puissance\"]\n",
    "    G.add_edge(aval1,Rep)\n",
    "    G.add_edge(aval2,Rep)\n",
    "    G[aval1][Rep][\"Longueur\"] = G.nodes[aval1][\"Longueur\"]\n",
    "    G[aval2][Rep][\"Longueur\"] = G.nodes[aval2][\"Longueur\"]\n",
    "    liste_de_postes.append(Rep)\n",
    "    \n",
    "    \n",
    "def ajout_prod(Nom, té):\n",
    "    G.add_node(\"Prod\",Longueur=0)\n",
    "    G.add_edge(\"Prod\",té)\n",
    "    G.node[\"Prod\"][\"Puissance\"] = G.node[té][\"Puissance\"]\n",
    "    \n",
    "#Exemple commande user:\n",
    "ajout_té(\"t1\", 1, 2, 1)\n",
    "ajout_poste(3,\"CF3\", 1000, 1)\n",
    "ajout_té(\"t2\", 3, \"t1\", 1)\n",
    "ajout_poste(4,\"CF4\", 1000, 1)\n",
    "ajout_té(\"t3\", 4, \"t2\", 1)\n",
    "ajout_prod(\"Prod\", \"t3\")\n",
    "\n",
    "\n",
    "\n",
    "#paths\n",
    "\n",
    "#print(liste_de_postes)\n",
    "\n",
    "liste_de_routes=[]\n",
    "for poste in liste_de_postes:\n",
    "    for path in nx.all_simple_paths(G, source=\"Prod\", target=poste):\n",
    "        liste_de_routes.append(path)\n",
    "\n",
    "#print(liste_de_routes)\n",
    "\n",
    "\n",
    "#print(G.nodes.data())\n",
    "#print(G.nodes.data())\n",
    "\n",
    "\n",
    "#Calcul des cumuls:\n",
    "\n",
    "for route in liste_de_routes:\n",
    "    cumul = 0\n",
    "    for poste in route:\n",
    "        cumul += G.node[poste][\"Longueur\"]\n",
    "    G.node[route[-1]][\"Cumul\"] = cumul    \n",
    "        \n",
    "print(G.nodes.data())\n",
    "\n",
    "\n",
    "#Dessin\n",
    "\n",
    "pos = nx.spring_layout(G)\n",
    "nx.draw(G, pos, font_size=16, with_labels=True)\n",
    "\n",
    "#coordonées des postes, on vera plus tard commend le gérer\n",
    "#pos = {\n",
    "#    1:(4,3),\n",
    "#    2:(4,1),\n",
    "#    3:(3,3),\n",
    "#    4:(2,3),\n",
    "#    \"t1\":(4,2),\n",
    "#    \"t2\":(3,2),\n",
    "#    \"t3\":(2,2),\n",
    "#    \"Prod\":(1,2)\n",
    "#}\n",
    "\n",
    "\n",
    "#nx.draw_shell(G)\n",
    "#nx.draw_kamada_kawai(G)\n",
    "#nx.draw_networkx(G,pos, arrows=True, with_labels=True)\n",
    "\n",
    "\n",
    "\n"
   ]
  },
  {
   "cell_type": "code",
   "execution_count": null,
   "metadata": {},
   "outputs": [],
   "source": []
  }
 ],
 "metadata": {
  "kernelspec": {
   "display_name": "Python 3",
   "language": "python",
   "name": "python3"
  },
  "language_info": {
   "codemirror_mode": {
    "name": "ipython",
    "version": 3
   },
   "file_extension": ".py",
   "mimetype": "text/x-python",
   "name": "python",
   "nbconvert_exporter": "python",
   "pygments_lexer": "ipython3",
   "version": "3.6.7"
  }
 },
 "nbformat": 4,
 "nbformat_minor": 2
}
